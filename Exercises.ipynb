{
 "cells": [
  {
   "cell_type": "markdown",
   "metadata": {},
   "source": [
    "# Exercises\n",
    "\n",
    "### Visualise  dynamics"
   ]
  },
  {
   "cell_type": "code",
   "execution_count": null,
   "metadata": {},
   "outputs": [],
   "source": [
    "%matplotlib inline\n",
    "import numpy as np\n",
    "import matplotlib.pyplot as plt\n",
    "from matplotlib.animation import FuncAnimation\n",
    "import netCDF4 as nc\n",
    "from IPython.display import HTML"
   ]
  },
  {
   "cell_type": "code",
   "execution_count": null,
   "metadata": {},
   "outputs": [],
   "source": [
    "import netCDF4 as nc\n",
    "\n",
    "file_path = 'dataset.nc'\n",
    "\n",
    "dataset = nc.Dataset(file_path)\n",
    "\n",
    "test =  dataset[\"v-velocity\"][:]\n",
    "test"
   ]
  },
  {
   "cell_type": "code",
   "execution_count": null,
   "metadata": {},
   "outputs": [],
   "source": [
    "test.shape"
   ]
  },
  {
   "cell_type": "markdown",
   "metadata": {},
   "source": [
    "The below is incorrect, as we need to times by the scale and add offset to obtain the correct values for temperature."
   ]
  },
  {
   "cell_type": "code",
   "execution_count": null,
   "metadata": {},
   "outputs": [],
   "source": [
    "# Assuming temperature is your 4D numpy array: (time, depth, lat, lon)\n",
    "depth_index = 0  # Specify the depth index you're interested in\n",
    "\n",
    "# Setup the figure and axis for plotting\n",
    "fig, ax = plt.subplots(figsize=(10, 6))\n",
    "cmap = 'viridis'  # Choose a colormap that fits your data well\n",
    "\n",
    "# Initial plot setup\n",
    "temp_img = ax.imshow(temperature[0, depth_index, :, :], cmap=cmap, origin='lower')\n",
    "cb = fig.colorbar(temp_img, ax=ax)\n",
    "cb.set_label('Temperature (°C)')\n",
    "ax.set_title('Temperature at Depth Index 10 - Time Step 0')\n",
    "\n",
    "# Animation update function\n",
    "def update(frame):\n",
    "    # Update the temperature data for the new frame\n",
    "    temp_img.set_data(temperature[frame, depth_index, :, :])\n",
    "    ax.set_title(f'Temperature at Depth Index 10 - Time Step {frame}')\n",
    "    return temp_img,\n",
    "\n",
    "# Create the animation\n",
    "ani = FuncAnimation(fig, update, frames=range(temperature.shape[0]), blit=True)\n",
    "\n",
    "# To display the animation in a Jupyter Notebook\n",
    "HTML(ani.to_html5_video())\n"
   ]
  },
  {
   "cell_type": "markdown",
   "metadata": {},
   "source": [
    "### Tidal current"
   ]
  },
  {
   "cell_type": "code",
   "execution_count": null,
   "metadata": {},
   "outputs": [],
   "source": [
    "from getVariable import get_variable_from_position\n",
    "import netCDF4 as nc\n",
    "\n",
    "file_path = \"dataset.nc\"\n",
    "\n",
    "dataset = nc.Dataset(file_path)\n",
    "\n",
    "# Define positions\n",
    "pos1 = (176, 53)\n",
    "pos2 = (176, 56)\n",
    "pos3 = (176, 59)\n",
    "# pos1 = (200, 247)\n",
    "# pos2 = (200, 250)\n",
    "# pos3 = (200, 253)\n",
    "\n",
    "\n",
    "# Extracting data\n",
    "t, E_inner = get_variable_from_position(file_path, 'elevation', pos1)\n",
    "t, E_outer = get_variable_from_position(file_path, 'elevation', pos3)\n",
    "t, V = get_variable_from_position(file_path, 'v-velocity', pos2, 10)\n",
    "t, U = get_variable_from_position(file_path, 'u-velocity', pos2, 10)\n",
    "t, T = get_variable_from_position(file_path, 'temperature', pos2, 10)\n",
    "t, S = get_variable_from_position(file_path, 'salinity', pos2, 10)\n",
    "t, windV = get_variable_from_position(file_path, 'v-Wind', pos2)\n",
    "\n",
    "# Calculate V accelerationdata_slice = var[position[0],position[1]]\n",
    "V_acc = np.diff(V) / (86400 * (t[1] - t[0]))\n",
    "\n",
    "g = 9.81\n",
    "rho_0 = 1023.6  # Density of seawater\n",
    "\n",
    "# # Calculating dE_dx and pressure gradient\n",
    "dE_dx = (E_inner - E_outer) / (800 * (pos3[1] - pos1[1]))\n",
    "dp_dx = rho_0 * g * dE_dx\n",
    "\n",
    "# # Calculating acceleration term\n",
    "p_acc = dp_dx / rho_0\n",
    "\n",
    "# Plotting\n",
    "plt.figure()\n",
    "plt.plot(t, p_acc, label='p_acc')\n",
    "plt.plot(t[1:], V_acc, label='V_acc')\n",
    "plt.legend()\n",
    "plt.show()\n",
    "data_slice = var[position[0],position[1]]\n",
    "plt.figure()\n",
    "plt.plot(t, windV)\n",
    "plt.show()\n",
    "\n",
    "# Additional plots can be created following the same pattern"
   ]
  },
  {
   "cell_type": "code",
   "execution_count": null,
   "metadata": {},
   "outputs": [],
   "source": [
    "v_component_tide_trondheimsfjord.shape\n",
    "\n",
    "# Find time step size\n",
    "delta_t = time[1] - time[0]\n",
    "\n",
    "delta_v_v = np.diff(v_component_tide_trondheimsfjord)\n",
    "\n",
    "delta_v_u = np.diff(u_component_tide_trondheimsfjord)\n",
    "\n",
    "acceleration_v = delta_v_v / delta_t\n",
    "\n",
    "acceleration_u = delta_v_u / delta_t\n",
    "\n",
    "# Assuming 'acceleration' is your calculated acceleration array\n",
    "# and assuming time steps are uniform and indexed from 0 to 216 (for the velocity data),\n",
    "# the time array for acceleration will be one less due to diff operation\n",
    "time_steps = np.arange(len(acceleration))\n",
    "\n",
    "# Plotting acceleration\n",
    "plt.figure(figsize=(10, 6))  # Optional: Adjust figure size\n",
    "plt.plot(time_steps, acceleration_v, label='Acceleration v')\n",
    "plt.plot(time_steps, acceleration_u, label='Acceleration u')\n",
    "plt.xlabel('Time Step')\n",
    "plt.ylabel('Acceleration')\n",
    "plt.title('Acceleration Over Time')\n",
    "plt.legend()\n",
    "plt.show()"
   ]
  },
  {
   "cell_type": "code",
   "execution_count": null,
   "metadata": {},
   "outputs": [],
   "source": [
    "# Find elevation at point one grid point below (in y) point (176, 56) and one point above\n",
    "\n",
    "[time, elevation_below] = get_variable(file_path, \"u-velocity\", (176, 55))\n",
    "\n",
    "[time, elevation_above] = get_variable(file_path, \"u-velocity\", (176, 57))\n",
    "data_slice = var[position[0],position[1]]\n",
    "# Time series of the change in elevation at point (176, 56)\n",
    "\n",
    "dEdy = (elevation_below - elevation_above) / (2*800)\n",
    "\n",
    "dEdy\n"
   ]
  },
  {
   "cell_type": "code",
   "execution_count": null,
   "metadata": {},
   "outputs": [],
   "source": []
  },
  {
   "cell_type": "code",
   "execution_count": null,
   "metadata": {},
   "outputs": [],
   "source": [
    "from getVariable import get_variable\n",
    "\n",
    "u_velocity = get_variable(\"dataset.nc\", \"u-velocity\", (0,0), (350,450), 10)\n",
    "v_velocity = get_variable(\"dataset.nc\", \"v-velocity\", (0,0), (350,400data_slice = var[position[0],position[1]]), 10)\n",
    "depth = get_variable(\"dataset.nc\", \"depth\", (0,0), (350,400))"
   ]
  },
  {
   "cell_type": "code",
   "execution_count": null,
   "metadata": {},
   "outputs": [],
   "source": [
    "from plotWithContours import plot_with_contours\n",
    "\n",
    "time_step = 0\n",
    "\n",
    "plot_with_contours(u_velocity[time_step,:,:],v_velocity[time_step,:,:] , depth, 10, [100, 250, 500])"
   ]
  },
  {
   "cell_type": "code",
   "execution_count": null,
   "metadata": {},
   "outputs": [],
   "source": [
    "import numpy as np\n",
    "# Averaging u and v fields\n",
    "\n",
    "av_u_velocity = np.mean(u_velocity, axis=0)\n",
    "av_v_velocity = np.mean(u_velocity, axis=0)\n",
    "\n",
    "plot_with_contours(av_u_velocity[:,:],av_v_velocity[:,:] , depth, 10, [50, 100, 250, 300 , 500])"
   ]
  },
  {
   "cell_type": "code",
   "execution_count": 18,
   "metadata": {},
   "outputs": [],
   "source": [
    "import netCDF4 as nc\n",
    "\n",
    "ds = nc.Dataset(\"dataset.nc\")"
   ]
  },
  {
   "cell_type": "code",
   "execution_count": 19,
   "metadata": {},
   "outputs": [
    {
     "data": {
      "text/plain": [
       "4"
      ]
     },
     "execution_count": 19,
     "metadata": {},
     "output_type": "execute_result"
    }
   ],
   "source": [
    "# To obtain the number of dimensions of a variable\n",
    "len(ds[\"v-velocity\"].dimensions)"
   ]
  },
  {
   "cell_type": "code",
   "execution_count": 20,
   "metadata": {},
   "outputs": [],
   "source": [
    "# Define a variable\n",
    "var = ds[\"v-velocity\"]"
   ]
  },
  {
   "cell_type": "code",
   "execution_count": 21,
   "metadata": {},
   "outputs": [
    {
     "data": {
      "text/plain": [
       "['units', 'scale_factor', 'add_offset', '_FillValue', 'missing_value']"
      ]
     },
     "execution_count": 21,
     "metadata": {},
     "output_type": "execute_result"
    }
   ],
   "source": [
    "# Retrieve global attribute names\n",
    "\n",
    "ds.ncattrs()\n",
    "\n",
    "# Retrieve local i.e. variable or group attribute names\n",
    "\n",
    "var.ncattrs()\n",
    "\n",
    "# Or retrive the dictionary values (key and value)\n",
    "#var.__dict__"
   ]
  },
  {
   "cell_type": "code",
   "execution_count": null,
   "metadata": {},
   "outputs": [],
   "source": [
    "var.ncattrs()"
   ]
  },
  {
   "cell_type": "code",
   "execution_count": null,
   "metadata": {},
   "outputs": [],
   "source": [
    "for var_name, var in ds.variables.items():\n",
    "            # Check if the variable has exactly two dimensions\n",
    "            if len(var.dimensions) == 3:\n",
    "                print(f'Variable \"{var_name}\" has 2 dimensions: {var.dimensions}')"
   ]
  },
  {
   "cell_type": "code",
   "execution_count": null,
   "metadata": {},
   "outputs": [],
   "source": []
  },
  {
   "cell_type": "code",
   "execution_count": 15,
   "metadata": {},
   "outputs": [],
   "source": [
    "from getVariable import get_variable\n",
    "\n",
    "V = get_variable(\"dataset.nc\", \"v-velocity\", (176, 56), 10)"
   ]
  },
  {
   "cell_type": "code",
   "execution_count": 17,
   "metadata": {},
   "outputs": [
    {
     "data": {
      "text/plain": [
       "(217,)"
      ]
     },
     "execution_count": 17,
     "metadata": {},
     "output_type": "execute_result"
    }
   ],
   "source": [
    "V.shape"
   ]
  },
  {
   "cell_type": "code",
   "execution_count": null,
   "metadata": {},
   "outputs": [],
   "source": []
  }
 ],
 "metadata": {
  "kernelspec": {
   "display_name": "base",
   "language": "python",
   "name": "python3"
  },
  "language_info": {
   "codemirror_mode": {
    "name": "ipython",
    "version": 3
   },
   "file_extension": ".py",
   "mimetype": "text/x-python",
   "name": "python",
   "nbconvert_exporter": "python",
   "pygments_lexer": "ipython3",
   "version": "3.11.8"
  }
 },
 "nbformat": 4,
 "nbformat_minor": 2
}
